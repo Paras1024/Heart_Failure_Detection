{
  "nbformat": 4,
  "nbformat_minor": 0,
  "metadata": {
    "colab": {
      "name": "Heart_Failure_detection.ipynb",
      "provenance": [],
      "authorship_tag": "ABX9TyMJNqi12E2mLxz9iHGv2aE2",
      "include_colab_link": true
    },
    "kernelspec": {
      "name": "python3",
      "display_name": "Python 3"
    },
    "language_info": {
      "name": "python"
    }
  },
  "cells": [
    {
      "cell_type": "markdown",
      "metadata": {
        "id": "view-in-github",
        "colab_type": "text"
      },
      "source": [
        "<a href=\"https://colab.research.google.com/github/Paras1024/Heart_Failure_Detection/blob/main/Heart_Failure_detection.ipynb\" target=\"_parent\"><img src=\"https://colab.research.google.com/assets/colab-badge.svg\" alt=\"Open In Colab\"/></a>"
      ]
    },
    {
      "cell_type": "markdown",
      "metadata": {
        "id": "bH70LGZ6CdvD"
      },
      "source": [
        "# **Dataset**\n",
        "\n",
        "Downloaded from: https://www.kaggle.com/fedesoriano/heart-failure-prediction/version/1"
      ]
    },
    {
      "cell_type": "code",
      "metadata": {
        "colab": {
          "resources": {
            "http://localhost:8080/nbextensions/google.colab/files.js": {
              "data": "Ly8gQ29weXJpZ2h0IDIwMTcgR29vZ2xlIExMQwovLwovLyBMaWNlbnNlZCB1bmRlciB0aGUgQXBhY2hlIExpY2Vuc2UsIFZlcnNpb24gMi4wICh0aGUgIkxpY2Vuc2UiKTsKLy8geW91IG1heSBub3QgdXNlIHRoaXMgZmlsZSBleGNlcHQgaW4gY29tcGxpYW5jZSB3aXRoIHRoZSBMaWNlbnNlLgovLyBZb3UgbWF5IG9idGFpbiBhIGNvcHkgb2YgdGhlIExpY2Vuc2UgYXQKLy8KLy8gICAgICBodHRwOi8vd3d3LmFwYWNoZS5vcmcvbGljZW5zZXMvTElDRU5TRS0yLjAKLy8KLy8gVW5sZXNzIHJlcXVpcmVkIGJ5IGFwcGxpY2FibGUgbGF3IG9yIGFncmVlZCB0byBpbiB3cml0aW5nLCBzb2Z0d2FyZQovLyBkaXN0cmlidXRlZCB1bmRlciB0aGUgTGljZW5zZSBpcyBkaXN0cmlidXRlZCBvbiBhbiAiQVMgSVMiIEJBU0lTLAovLyBXSVRIT1VUIFdBUlJBTlRJRVMgT1IgQ09ORElUSU9OUyBPRiBBTlkgS0lORCwgZWl0aGVyIGV4cHJlc3Mgb3IgaW1wbGllZC4KLy8gU2VlIHRoZSBMaWNlbnNlIGZvciB0aGUgc3BlY2lmaWMgbGFuZ3VhZ2UgZ292ZXJuaW5nIHBlcm1pc3Npb25zIGFuZAovLyBsaW1pdGF0aW9ucyB1bmRlciB0aGUgTGljZW5zZS4KCi8qKgogKiBAZmlsZW92ZXJ2aWV3IEhlbHBlcnMgZm9yIGdvb2dsZS5jb2xhYiBQeXRob24gbW9kdWxlLgogKi8KKGZ1bmN0aW9uKHNjb3BlKSB7CmZ1bmN0aW9uIHNwYW4odGV4dCwgc3R5bGVBdHRyaWJ1dGVzID0ge30pIHsKICBjb25zdCBlbGVtZW50ID0gZG9jdW1lbnQuY3JlYXRlRWxlbWVudCgnc3BhbicpOwogIGVsZW1lbnQudGV4dENvbnRlbnQgPSB0ZXh0OwogIGZvciAoY29uc3Qga2V5IG9mIE9iamVjdC5rZXlzKHN0eWxlQXR0cmlidXRlcykpIHsKICAgIGVsZW1lbnQuc3R5bGVba2V5XSA9IHN0eWxlQXR0cmlidXRlc1trZXldOwogIH0KICByZXR1cm4gZWxlbWVudDsKfQoKLy8gTWF4IG51bWJlciBvZiBieXRlcyB3aGljaCB3aWxsIGJlIHVwbG9hZGVkIGF0IGEgdGltZS4KY29uc3QgTUFYX1BBWUxPQURfU0laRSA9IDEwMCAqIDEwMjQ7CgpmdW5jdGlvbiBfdXBsb2FkRmlsZXMoaW5wdXRJZCwgb3V0cHV0SWQpIHsKICBjb25zdCBzdGVwcyA9IHVwbG9hZEZpbGVzU3RlcChpbnB1dElkLCBvdXRwdXRJZCk7CiAgY29uc3Qgb3V0cHV0RWxlbWVudCA9IGRvY3VtZW50LmdldEVsZW1lbnRCeUlkKG91dHB1dElkKTsKICAvLyBDYWNoZSBzdGVwcyBvbiB0aGUgb3V0cHV0RWxlbWVudCB0byBtYWtlIGl0IGF2YWlsYWJsZSBmb3IgdGhlIG5leHQgY2FsbAogIC8vIHRvIHVwbG9hZEZpbGVzQ29udGludWUgZnJvbSBQeXRob24uCiAgb3V0cHV0RWxlbWVudC5zdGVwcyA9IHN0ZXBzOwoKICByZXR1cm4gX3VwbG9hZEZpbGVzQ29udGludWUob3V0cHV0SWQpOwp9CgovLyBUaGlzIGlzIHJvdWdobHkgYW4gYXN5bmMgZ2VuZXJhdG9yIChub3Qgc3VwcG9ydGVkIGluIHRoZSBicm93c2VyIHlldCksCi8vIHdoZXJlIHRoZXJlIGFyZSBtdWx0aXBsZSBhc3luY2hyb25vdXMgc3RlcHMgYW5kIHRoZSBQeXRob24gc2lkZSBpcyBnb2luZwovLyB0byBwb2xsIGZvciBjb21wbGV0aW9uIG9mIGVhY2ggc3RlcC4KLy8gVGhpcyB1c2VzIGEgUHJvbWlzZSB0byBibG9jayB0aGUgcHl0aG9uIHNpZGUgb24gY29tcGxldGlvbiBvZiBlYWNoIHN0ZXAsCi8vIHRoZW4gcGFzc2VzIHRoZSByZXN1bHQgb2YgdGhlIHByZXZpb3VzIHN0ZXAgYXMgdGhlIGlucHV0IHRvIHRoZSBuZXh0IHN0ZXAuCmZ1bmN0aW9uIF91cGxvYWRGaWxlc0NvbnRpbnVlKG91dHB1dElkKSB7CiAgY29uc3Qgb3V0cHV0RWxlbWVudCA9IGRvY3VtZW50LmdldEVsZW1lbnRCeUlkKG91dHB1dElkKTsKICBjb25zdCBzdGVwcyA9IG91dHB1dEVsZW1lbnQuc3RlcHM7CgogIGNvbnN0IG5leHQgPSBzdGVwcy5uZXh0KG91dHB1dEVsZW1lbnQubGFzdFByb21pc2VWYWx1ZSk7CiAgcmV0dXJuIFByb21pc2UucmVzb2x2ZShuZXh0LnZhbHVlLnByb21pc2UpLnRoZW4oKHZhbHVlKSA9PiB7CiAgICAvLyBDYWNoZSB0aGUgbGFzdCBwcm9taXNlIHZhbHVlIHRvIG1ha2UgaXQgYXZhaWxhYmxlIHRvIHRoZSBuZXh0CiAgICAvLyBzdGVwIG9mIHRoZSBnZW5lcmF0b3IuCiAgICBvdXRwdXRFbGVtZW50Lmxhc3RQcm9taXNlVmFsdWUgPSB2YWx1ZTsKICAgIHJldHVybiBuZXh0LnZhbHVlLnJlc3BvbnNlOwogIH0pOwp9CgovKioKICogR2VuZXJhdG9yIGZ1bmN0aW9uIHdoaWNoIGlzIGNhbGxlZCBiZXR3ZWVuIGVhY2ggYXN5bmMgc3RlcCBvZiB0aGUgdXBsb2FkCiAqIHByb2Nlc3MuCiAqIEBwYXJhbSB7c3RyaW5nfSBpbnB1dElkIEVsZW1lbnQgSUQgb2YgdGhlIGlucHV0IGZpbGUgcGlja2VyIGVsZW1lbnQuCiAqIEBwYXJhbSB7c3RyaW5nfSBvdXRwdXRJZCBFbGVtZW50IElEIG9mIHRoZSBvdXRwdXQgZGlzcGxheS4KICogQHJldHVybiB7IUl0ZXJhYmxlPCFPYmplY3Q+fSBJdGVyYWJsZSBvZiBuZXh0IHN0ZXBzLgogKi8KZnVuY3Rpb24qIHVwbG9hZEZpbGVzU3RlcChpbnB1dElkLCBvdXRwdXRJZCkgewogIGNvbnN0IGlucHV0RWxlbWVudCA9IGRvY3VtZW50LmdldEVsZW1lbnRCeUlkKGlucHV0SWQpOwogIGlucHV0RWxlbWVudC5kaXNhYmxlZCA9IGZhbHNlOwoKICBjb25zdCBvdXRwdXRFbGVtZW50ID0gZG9jdW1lbnQuZ2V0RWxlbWVudEJ5SWQob3V0cHV0SWQpOwogIG91dHB1dEVsZW1lbnQuaW5uZXJIVE1MID0gJyc7CgogIGNvbnN0IHBpY2tlZFByb21pc2UgPSBuZXcgUHJvbWlzZSgocmVzb2x2ZSkgPT4gewogICAgaW5wdXRFbGVtZW50LmFkZEV2ZW50TGlzdGVuZXIoJ2NoYW5nZScsIChlKSA9PiB7CiAgICAgIHJlc29sdmUoZS50YXJnZXQuZmlsZXMpOwogICAgfSk7CiAgfSk7CgogIGNvbnN0IGNhbmNlbCA9IGRvY3VtZW50LmNyZWF0ZUVsZW1lbnQoJ2J1dHRvbicpOwogIGlucHV0RWxlbWVudC5wYXJlbnRFbGVtZW50LmFwcGVuZENoaWxkKGNhbmNlbCk7CiAgY2FuY2VsLnRleHRDb250ZW50ID0gJ0NhbmNlbCB1cGxvYWQnOwogIGNvbnN0IGNhbmNlbFByb21pc2UgPSBuZXcgUHJvbWlzZSgocmVzb2x2ZSkgPT4gewogICAgY2FuY2VsLm9uY2xpY2sgPSAoKSA9PiB7CiAgICAgIHJlc29sdmUobnVsbCk7CiAgICB9OwogIH0pOwoKICAvLyBXYWl0IGZvciB0aGUgdXNlciB0byBwaWNrIHRoZSBmaWxlcy4KICBjb25zdCBmaWxlcyA9IHlpZWxkIHsKICAgIHByb21pc2U6IFByb21pc2UucmFjZShbcGlja2VkUHJvbWlzZSwgY2FuY2VsUHJvbWlzZV0pLAogICAgcmVzcG9uc2U6IHsKICAgICAgYWN0aW9uOiAnc3RhcnRpbmcnLAogICAgfQogIH07CgogIGNhbmNlbC5yZW1vdmUoKTsKCiAgLy8gRGlzYWJsZSB0aGUgaW5wdXQgZWxlbWVudCBzaW5jZSBmdXJ0aGVyIHBpY2tzIGFyZSBub3QgYWxsb3dlZC4KICBpbnB1dEVsZW1lbnQuZGlzYWJsZWQgPSB0cnVlOwoKICBpZiAoIWZpbGVzKSB7CiAgICByZXR1cm4gewogICAgICByZXNwb25zZTogewogICAgICAgIGFjdGlvbjogJ2NvbXBsZXRlJywKICAgICAgfQogICAgfTsKICB9CgogIGZvciAoY29uc3QgZmlsZSBvZiBmaWxlcykgewogICAgY29uc3QgbGkgPSBkb2N1bWVudC5jcmVhdGVFbGVtZW50KCdsaScpOwogICAgbGkuYXBwZW5kKHNwYW4oZmlsZS5uYW1lLCB7Zm9udFdlaWdodDogJ2JvbGQnfSkpOwogICAgbGkuYXBwZW5kKHNwYW4oCiAgICAgICAgYCgke2ZpbGUudHlwZSB8fCAnbi9hJ30pIC0gJHtmaWxlLnNpemV9IGJ5dGVzLCBgICsKICAgICAgICBgbGFzdCBtb2RpZmllZDogJHsKICAgICAgICAgICAgZmlsZS5sYXN0TW9kaWZpZWREYXRlID8gZmlsZS5sYXN0TW9kaWZpZWREYXRlLnRvTG9jYWxlRGF0ZVN0cmluZygpIDoKICAgICAgICAgICAgICAgICAgICAgICAgICAgICAgICAgICAgJ24vYSd9IC0gYCkpOwogICAgY29uc3QgcGVyY2VudCA9IHNwYW4oJzAlIGRvbmUnKTsKICAgIGxpLmFwcGVuZENoaWxkKHBlcmNlbnQpOwoKICAgIG91dHB1dEVsZW1lbnQuYXBwZW5kQ2hpbGQobGkpOwoKICAgIGNvbnN0IGZpbGVEYXRhUHJvbWlzZSA9IG5ldyBQcm9taXNlKChyZXNvbHZlKSA9PiB7CiAgICAgIGNvbnN0IHJlYWRlciA9IG5ldyBGaWxlUmVhZGVyKCk7CiAgICAgIHJlYWRlci5vbmxvYWQgPSAoZSkgPT4gewogICAgICAgIHJlc29sdmUoZS50YXJnZXQucmVzdWx0KTsKICAgICAgfTsKICAgICAgcmVhZGVyLnJlYWRBc0FycmF5QnVmZmVyKGZpbGUpOwogICAgfSk7CiAgICAvLyBXYWl0IGZvciB0aGUgZGF0YSB0byBiZSByZWFkeS4KICAgIGxldCBmaWxlRGF0YSA9IHlpZWxkIHsKICAgICAgcHJvbWlzZTogZmlsZURhdGFQcm9taXNlLAogICAgICByZXNwb25zZTogewogICAgICAgIGFjdGlvbjogJ2NvbnRpbnVlJywKICAgICAgfQogICAgfTsKCiAgICAvLyBVc2UgYSBjaHVua2VkIHNlbmRpbmcgdG8gYXZvaWQgbWVzc2FnZSBzaXplIGxpbWl0cy4gU2VlIGIvNjIxMTU2NjAuCiAgICBsZXQgcG9zaXRpb24gPSAwOwogICAgZG8gewogICAgICBjb25zdCBsZW5ndGggPSBNYXRoLm1pbihmaWxlRGF0YS5ieXRlTGVuZ3RoIC0gcG9zaXRpb24sIE1BWF9QQVlMT0FEX1NJWkUpOwogICAgICBjb25zdCBjaHVuayA9IG5ldyBVaW50OEFycmF5KGZpbGVEYXRhLCBwb3NpdGlvbiwgbGVuZ3RoKTsKICAgICAgcG9zaXRpb24gKz0gbGVuZ3RoOwoKICAgICAgY29uc3QgYmFzZTY0ID0gYnRvYShTdHJpbmcuZnJvbUNoYXJDb2RlLmFwcGx5KG51bGwsIGNodW5rKSk7CiAgICAgIHlpZWxkIHsKICAgICAgICByZXNwb25zZTogewogICAgICAgICAgYWN0aW9uOiAnYXBwZW5kJywKICAgICAgICAgIGZpbGU6IGZpbGUubmFtZSwKICAgICAgICAgIGRhdGE6IGJhc2U2NCwKICAgICAgICB9LAogICAgICB9OwoKICAgICAgbGV0IHBlcmNlbnREb25lID0gZmlsZURhdGEuYnl0ZUxlbmd0aCA9PT0gMCA/CiAgICAgICAgICAxMDAgOgogICAgICAgICAgTWF0aC5yb3VuZCgocG9zaXRpb24gLyBmaWxlRGF0YS5ieXRlTGVuZ3RoKSAqIDEwMCk7CiAgICAgIHBlcmNlbnQudGV4dENvbnRlbnQgPSBgJHtwZXJjZW50RG9uZX0lIGRvbmVgOwoKICAgIH0gd2hpbGUgKHBvc2l0aW9uIDwgZmlsZURhdGEuYnl0ZUxlbmd0aCk7CiAgfQoKICAvLyBBbGwgZG9uZS4KICB5aWVsZCB7CiAgICByZXNwb25zZTogewogICAgICBhY3Rpb246ICdjb21wbGV0ZScsCiAgICB9CiAgfTsKfQoKc2NvcGUuZ29vZ2xlID0gc2NvcGUuZ29vZ2xlIHx8IHt9OwpzY29wZS5nb29nbGUuY29sYWIgPSBzY29wZS5nb29nbGUuY29sYWIgfHwge307CnNjb3BlLmdvb2dsZS5jb2xhYi5fZmlsZXMgPSB7CiAgX3VwbG9hZEZpbGVzLAogIF91cGxvYWRGaWxlc0NvbnRpbnVlLAp9Owp9KShzZWxmKTsK",
              "ok": true,
              "headers": [
                [
                  "content-type",
                  "application/javascript"
                ]
              ],
              "status": 200,
              "status_text": ""
            }
          },
          "base_uri": "https://localhost:8080/",
          "height": 74
        },
        "id": "c8YAws5mRLZ9",
        "outputId": "6c935013-0f93-4273-8aca-f0bb7b89789f"
      },
      "source": [
        "from google.colab import files\n",
        "uploaded = files.upload()"
      ],
      "execution_count": 1,
      "outputs": [
        {
          "output_type": "display_data",
          "data": {
            "text/html": [
              "\n",
              "     <input type=\"file\" id=\"files-d068fee4-fee5-48fa-968e-8a433756d6ff\" name=\"files[]\" multiple disabled\n",
              "        style=\"border:none\" />\n",
              "     <output id=\"result-d068fee4-fee5-48fa-968e-8a433756d6ff\">\n",
              "      Upload widget is only available when the cell has been executed in the\n",
              "      current browser session. Please rerun this cell to enable.\n",
              "      </output>\n",
              "      <script src=\"/nbextensions/google.colab/files.js\"></script> "
            ],
            "text/plain": [
              "<IPython.core.display.HTML object>"
            ]
          },
          "metadata": {}
        },
        {
          "output_type": "stream",
          "name": "stdout",
          "text": [
            "Saving heart.csv to heart (2).csv\n"
          ]
        }
      ]
    },
    {
      "cell_type": "code",
      "metadata": {
        "id": "lgDrGZNbRs_b"
      },
      "source": [
        "try:\n",
        "  %tensorflow_version 2.x\n",
        "except Exception:\n",
        "  pass\n",
        "\n",
        "\n",
        "from __future__ import absolute_import, division, print_function, unicode_literals\n",
        "import tensorflow as tf\n",
        "from tensorflow import keras\n",
        "from keras.utils import np_utils\n",
        "import sklearn\n",
        "import sklearn.preprocessing\n",
        "import numpy as np\n",
        "import matplotlib.pyplot as plt\n",
        "import pandas as pd\n"
      ],
      "execution_count": 2,
      "outputs": []
    },
    {
      "cell_type": "markdown",
      "metadata": {
        "id": "LcMoseD6Ctq8"
      },
      "source": [
        "Using Interpolation to fill NA values in the Dataset"
      ]
    },
    {
      "cell_type": "code",
      "metadata": {
        "id": "Xds_q1J2SIJO"
      },
      "source": [
        "dataset = pd.read_csv('heart.csv')\n",
        "dataset['Cholesterol'] = dataset['Cholesterol'].replace(to_replace = 0,value = np.nan)\n",
        "dataset['RestingBP'] = dataset['RestingBP'].replace(to_replace = 0,value = np.nan)\n",
        "dataset = dataset.interpolate(method = 'polynomial',order = 1,axis = 0)\n",
        "dataset = dataset.sample(frac = 1)"
      ],
      "execution_count": 3,
      "outputs": []
    },
    {
      "cell_type": "markdown",
      "metadata": {
        "id": "3zaXChcufLxn"
      },
      "source": [
        "# Plotting the Data"
      ]
    },
    {
      "cell_type": "code",
      "metadata": {
        "colab": {
          "base_uri": "https://localhost:8080/",
          "height": 1000
        },
        "id": "AqHAn7myWTuv",
        "outputId": "22522c93-fa65-4744-df88-6619f092b94e"
      },
      "source": [
        "\n",
        "#Age \n",
        "\n",
        "def percentage_range(a,b):\n",
        "  return sum(dataset[(dataset['Age']>a) & (dataset['Age']<=b)]['HeartDisease'])/len(dataset[(dataset['Age']>a) & (dataset['Age']<=b)]['HeartDisease'])\n",
        "\n",
        "Age_labels = ['<40','41-45','46-50','51-55','56-60','61-65','66-70','71+']\n",
        "Age_x = [1,2,3,4,5,6,7,8]\n",
        "Age_y = [percentage_range(-1,40),percentage_range(40,45),percentage_range(45,50),percentage_range(50,55),percentage_range(55,60),percentage_range(60,65),percentage_range(65,70),percentage_range(70,100)]\n",
        "\n",
        "\n",
        "fig = plt.figure(figsize = (8,6))\n",
        "ax = fig.add_subplot(111)\n",
        "ax.bar(Age_x,Age_y)\n",
        "plt.xticks(Age_x,Age_labels)\n",
        "ax.set(title = 'Relation of Age to Heart Failure',xlabel = 'Age Range',ylabel = 'Probability of Having a Heart Failure')\n",
        "plt.show()\n",
        "\n",
        "#Sex \n",
        "Sex_labels = ['M','F']\n",
        "Sex_x = [1,2]\n",
        "Sex_y = [sum(dataset[(dataset['Sex']=='M')]['HeartDisease'])/len(dataset[(dataset['Sex']=='M')]),sum(dataset[(dataset['Sex']=='F')]['HeartDisease'])/len(dataset[(dataset['Sex']=='F')]['HeartDisease'])]\n",
        "\n",
        "fig = plt.figure(figsize = (2,6))\n",
        "ax = fig.add_subplot(111)\n",
        "ax.bar(Sex_x,Sex_y)\n",
        "plt.xticks(Sex_x,Sex_labels)\n",
        "ax.set(title = 'Sex Vs Heart Failure',xlabel = 'Sex',ylabel = 'Probability of Having a Heart Failure')\n",
        "plt.show()\n",
        "\n",
        "#Chest Pain \n",
        "\n",
        "def cp_percentage(a):\n",
        "  return sum(dataset[dataset['ChestPainType']==a]['HeartDisease'])/len(dataset[dataset['ChestPainType']==a]['HeartDisease'])\n",
        "\n",
        "\n",
        "cp_labels = ['ASY','NAP','ATA','TA']\n",
        "cp_x = [1,2,3,4]\n",
        "cp_y = [cp_percentage('ASY'),cp_percentage('NAP'),cp_percentage('ATA'),cp_percentage('TA')]\n",
        "\n",
        "fig = plt.figure(figsize = (4,6))\n",
        "ax = fig.add_subplot(111)\n",
        "ax.bar(cp_x,cp_y)\n",
        "plt.xticks(cp_x,cp_labels)\n",
        "ax.set(title = 'Chest Pain Type Vs Heart Failure',xlabel = 'Chest Pain Type',ylabel = 'Probability of Having a Heart Failure')\n",
        "plt.show()\n",
        "\n",
        "#Resting Blood Pressure\n",
        "def bp_range(a,b):\n",
        "  return sum(dataset[(dataset['RestingBP']>a) & (dataset['RestingBP']<=b)]['HeartDisease'])/len(dataset[(dataset['RestingBP']>a) & (dataset['RestingBP']<=b)]['HeartDisease'])\n",
        "\n",
        "bp_labels = ['<=100','101-110','111-120','121-130','131-140','141-150','151-160','161-170','171+']\n",
        "bp_x = [1,2,3,4,5,6,7,8,9]\n",
        "bp_y = [bp_range(-1,100),bp_range(100,110),bp_range(110,120),bp_range(120,130),bp_range(130,140),bp_range(140,150),bp_range(150,160),bp_range(160,170),bp_range(170,250)]\n",
        "\n",
        "\n",
        "fig = plt.figure(figsize = (9,6))\n",
        "ax = fig.add_subplot(111)\n",
        "ax.bar(bp_x,bp_y)\n",
        "plt.xticks(bp_x,bp_labels)\n",
        "ax.set(title = 'Relation of Resting BP to Heart Failure',xlabel = 'BP Range',ylabel = 'Probability of Having a Heart Failure')\n",
        "plt.show()\n",
        "\n",
        "#Cholesterol\n",
        "def chol_range(a,b):\n",
        "  if len(dataset[(dataset['Cholesterol']>a) & (dataset['Cholesterol']<=b)]['HeartDisease']) == 0:\n",
        "    return 0\n",
        "  return sum(dataset[(dataset['Cholesterol']>a) & (dataset['Cholesterol']<=b)]['HeartDisease'])/len(dataset[(dataset['Cholesterol']>a) & (dataset['Cholesterol']<=b)]['HeartDisease'])\n",
        "\n",
        "chol_labels = ['<=50','51-100','101-150','151-200','201-250','251-300','301-350','351-400','400+']\n",
        "chol_x = [1,2,3,4,5,6,7,8,9]\n",
        "chol_y = [chol_range(-1,50),chol_range(50,100),chol_range(100,150),chol_range(150,200),chol_range(200,250),chol_range(250,300),chol_range(300,350),chol_range(350,400),chol_range(400,1000)]\n",
        "\n",
        "\n",
        "fig = plt.figure(figsize = (9,6))\n",
        "ax = fig.add_subplot(111)\n",
        "ax.bar(chol_x,chol_y)\n",
        "plt.xticks(chol_x,chol_labels)\n",
        "ax.set(title = 'Relation between Cholesterol and Heart Failure',xlabel = 'Cholesterol Level',ylabel = 'Probability of Having a Heart Failure')\n",
        "plt.show()\n",
        "\n",
        "#Fasting Blood Sugar\n",
        "fbs_x = [0,1]\n",
        "fbs_y = [sum(dataset[(dataset['FastingBS']==0)]['HeartDisease'])/len(dataset[(dataset['FastingBS']==0)]),sum(dataset[(dataset['FastingBS']==1)]['HeartDisease'])/len(dataset[(dataset['FastingBS']==1)]['HeartDisease'])]\n",
        "fig = plt.figure(figsize = (2,6))\n",
        "ax = fig.add_subplot(111)\n",
        "ax.bar(fbs_x,fbs_y)\n",
        "ax.set(title = 'Fasting Blood Sugar Vs Heart Failure',xlabel = 'Fasting Blood Sugar \\n(1: if FastingBS > 120 mg/dl, 0: otherwise)',ylabel = 'Probability of Having a Heart Failure')\n",
        "plt.show()\n",
        "\n",
        "#Resting ECG\n",
        "recg_x = ['Normal','ST','LVH']\n",
        "recg_y = [sum(dataset[(dataset['RestingECG']=='Normal')]['HeartDisease'])/len(dataset[(dataset['RestingECG']=='Normal')]),sum(dataset[(dataset['RestingECG']=='ST')]['HeartDisease'])/len(dataset[(dataset['RestingECG']=='ST')]['HeartDisease']),sum(dataset[(dataset['RestingECG']=='LVH')]['HeartDisease'])/len(dataset[(dataset['RestingECG']=='LVH')]['HeartDisease'])]\n",
        "fig = plt.figure(figsize = (2,6))\n",
        "ax = fig.add_subplot(111)\n",
        "ax.bar(recg_x,recg_y)\n",
        "ax.set(title = 'Resting ECG Vs Heart Failure',xlabel = 'Resting ECG',ylabel = 'Probability of Having a Heart Failure')\n",
        "plt.show()\n",
        "\n",
        "\n",
        "#Max Heart Rate\n",
        "\n",
        "def hr_range(a,b):\n",
        "  if len(dataset[(dataset['MaxHR']>a) & (dataset['MaxHR']<=b)]['HeartDisease']) == 0:\n",
        "    return 0\n",
        "  return sum(dataset[(dataset['MaxHR']>a) & (dataset['MaxHR']<=b)]['HeartDisease'])/len(dataset[(dataset['MaxHR']>a) & (dataset['MaxHR']<=b)]['HeartDisease'])\n",
        "\n",
        "hr_x = ['<=70','71-100','101-130','131-160','160+']\n",
        "hr_y = [hr_range(-1,70),hr_range(70,100),hr_range(100,130),hr_range(130,160),hr_range(160,190)]\n",
        "\n",
        "\n",
        "fig = plt.figure(figsize = (5,6))\n",
        "ax = fig.add_subplot(111)\n",
        "ax.bar(hr_x,hr_y)\n",
        "\n",
        "ax.set(title = 'Relation between Max Heart Rate and Heart Failure',xlabel = 'Maximum Heart Rate',ylabel = 'Probability of Having a Heart Failure')\n",
        "plt.show()\n",
        "\n",
        "## Exercise Angina\n",
        "ea_x = ['N','Y']\n",
        "ea_y = [sum(dataset[(dataset['ExerciseAngina']=='N')]['HeartDisease'])/len(dataset[(dataset['ExerciseAngina']=='N')]),sum(dataset[(dataset['ExerciseAngina']=='Y')]['HeartDisease'])/len(dataset[(dataset['ExerciseAngina']=='Y')]['HeartDisease'])]\n",
        "fig = plt.figure(figsize = (2,6))\n",
        "ax = fig.add_subplot(111)\n",
        "ax.bar(ea_x,ea_y)\n",
        "ax.set(title = 'Exercise Angina Vs Heart Failure',xlabel = 'Exercise Angina',ylabel = 'Probability of Having a Heart Failure')\n",
        "plt.show()\n",
        "\n",
        "#Oldpeak\n",
        "def op_range(a,b):\n",
        "  if len(dataset[(dataset['Oldpeak']>a) & (dataset['Oldpeak']<=b)]['HeartDisease']) == 0:\n",
        "    return 0\n",
        "  return sum(dataset[(dataset['Oldpeak']>a) & (dataset['Oldpeak']<=b)]['HeartDisease'])/len(dataset[(dataset['Oldpeak']>a) & (dataset['Oldpeak']<=b)]['HeartDisease'])\n",
        "\n",
        "op_x = ['<=-2','(-2,-1]','(-1,0]','(0,1]','(1,2]','>2']\n",
        "op_y = [op_range(-10,-2),op_range(-2,-1),op_range(-1,0),op_range(0,1),op_range(1,2),op_range(2,10)]\n",
        "fig = plt.figure(figsize = (6,6))\n",
        "ax = fig.add_subplot(111)\n",
        "ax.bar(op_x,op_y)\n",
        "ax.set(title = 'Oldpeak Vs Heart Failure',xlabel = 'Oldpeak',ylabel = 'Probability of Having a Heart Failure')\n",
        "plt.show()\n",
        "\n",
        "#ST Slope\n",
        "sts_x = ['Down','Flat','Up']\n",
        "sts_y = [sum(dataset[(dataset['ST_Slope']=='Down')]['HeartDisease'])/len(dataset[(dataset['ST_Slope']=='Down')]),sum(dataset[(dataset['ST_Slope']=='Flat')]['HeartDisease'])/len(dataset[(dataset['ST_Slope']=='Flat')]['HeartDisease']),sum(dataset[(dataset['ST_Slope']=='Up')]['HeartDisease'])/len(dataset[(dataset['ST_Slope']=='Up')]['HeartDisease'])]\n",
        "fig = plt.figure(figsize = (3,6))\n",
        "ax = fig.add_subplot(111)\n",
        "ax.bar(sts_x,sts_y)\n",
        "ax.set(title = 'ST Slope Vs Heart Failure',xlabel = 'ST Slope',ylabel = 'Probability of Having a Heart Failure')\n",
        "plt.show()"
      ],
      "execution_count": 4,
      "outputs": [
        {
          "output_type": "display_data",
          "data": {
            "image/png": "[encoded data removed]",
            "text/plain": [
              "<Figure size 576x432 with 1 Axes>"
            ]
          },
          "metadata": {
            "needs_background": "light"
          }
        },
        {
          "output_type": "display_data",
          "data": {
            "image/png": "[encoded data removed]",
            "text/plain": [
              "<Figure size 144x432 with 1 Axes>"
            ]
          },
          "metadata": {
            "needs_background": "light"
          }
        },
        {
          "output_type": "display_data",
          "data": {
            "image/png": "[encoded data removed]",
            "text/plain": [
              "<Figure size 288x432 with 1 Axes>"
            ]
          },
          "metadata": {
            "needs_background": "light"
          }
        },
        {
          "output_type": "display_data",
          "data": {
            "image/png": "[encoded data removed]",
            "text/plain": [
              "<Figure size 648x432 with 1 Axes>"
            ]
          },
          "metadata": {
            "needs_background": "light"
          }
        },
        {
          "output_type": "display_data",
          "data": {
            "image/png": "[encoded data removed]",
            "text/plain": [
              "<Figure size 648x432 with 1 Axes>"
            ]
          },
          "metadata": {
            "needs_background": "light"
          }
        },
        {
          "output_type": "display_data",
          "data": {
            "image/png": "[encoded data removed]",
            "text/plain": [
              "<Figure size 144x432 with 1 Axes>"
            ]
          },
          "metadata": {
            "needs_background": "light"
          }
        },
        {
          "output_type": "display_data",
          "data": {
            "image/png": "[encoded data removed]",
            "text/plain": [
              "<Figure size 144x432 with 1 Axes>"
            ]
          },
          "metadata": {
            "needs_background": "light"
          }
        },
        {
          "output_type": "display_data",
          "data": {
            "image/png": "[encoded data removed]",
            "text/plain": [
              "<Figure size 360x432 with 1 Axes>"
            ]
          },
          "metadata": {
            "needs_background": "light"
          }
        },
        {
          "output_type": "display_data",
          "data": {
            "image/png": "[encoded data removed]",
            "text/plain": [
              "<Figure size 144x432 with 1 Axes>"
            ]
          },
          "metadata": {
            "needs_background": "light"
          }
        },
        {
          "output_type": "display_data",
          "data": {
            "image/png": "[encoded data removed]",
            "text/plain": [
              "<Figure size 432x432 with 1 Axes>"
            ]
          },
          "metadata": {
            "needs_background": "light"
          }
        },
        {
          "output_type": "display_data",
          "data": {
            "image/png": "[encoded data removed]",
            "text/plain": [
              "<Figure size 216x432 with 1 Axes>"
            ]
          },
          "metadata": {
            "needs_background": "light"
          }
        }
      ]
    },
    {
      "cell_type": "markdown",
      "metadata": {
        "id": "NIvSnGFpDGKN"
      },
      "source": [
        "## One-Hot Encoding to convert Categorical Data"
      ]
    },
    {
      "cell_type": "code",
      "metadata": {
        "id": "6-EKqt-LNiM1",
        "colab": {
          "base_uri": "https://localhost:8080/",
          "height": 226
        },
        "outputId": "b49dcb61-46e2-4f90-f537-13b8a93df301"
      },
      "source": [
        "\n",
        "dummies  = pd.get_dummies(dataset,prefix=['Sex','ChestPainType','RestingECG','ExerciseAngina','ST_Slope'],columns = ['Sex','ChestPainType','RestingECG','ExerciseAngina','ST_Slope'])\n",
        "dummies = dummies.drop(['Sex_F','ChestPainType_ATA','RestingECG_Normal','ExerciseAngina_N','ST_Slope_Up'],axis = 'columns')\n",
        "dummies.head()"
      ],
      "execution_count": 5,
      "outputs": [
        {
          "output_type": "execute_result",
          "data": {
            "text/html": [
              "<div>\n",
              "<style scoped>\n",
              "    .dataframe tbody tr th:only-of-type {\n",
              "        vertical-align: middle;\n",
              "    }\n",
              "\n",
              "    .dataframe tbody tr th {\n",
              "        vertical-align: top;\n",
              "    }\n",
              "\n",
              "    .dataframe thead th {\n",
              "        text-align: right;\n",
              "    }\n",
              "</style>\n",
              "<table border=\"1\" class=\"dataframe\">\n",
              "  <thead>\n",
              "    <tr style=\"text-align: right;\">\n",
              "      <th></th>\n",
              "      <th>Age</th>\n",
              "      <th>RestingBP</th>\n",
              "      <th>Cholesterol</th>\n",
              "      <th>FastingBS</th>\n",
              "      <th>MaxHR</th>\n",
              "      <th>Oldpeak</th>\n",
              "      <th>HeartDisease</th>\n",
              "      <th>Sex_M</th>\n",
              "      <th>ChestPainType_ASY</th>\n",
              "      <th>ChestPainType_NAP</th>\n",
              "      <th>ChestPainType_TA</th>\n",
              "      <th>RestingECG_LVH</th>\n",
              "      <th>RestingECG_ST</th>\n",
              "      <th>ExerciseAngina_Y</th>\n",
              "      <th>ST_Slope_Down</th>\n",
              "      <th>ST_Slope_Flat</th>\n",
              "    </tr>\n",
              "  </thead>\n",
              "  <tbody>\n",
              "    <tr>\n",
              "      <th>715</th>\n",
              "      <td>44</td>\n",
              "      <td>108.0</td>\n",
              "      <td>141.0</td>\n",
              "      <td>0</td>\n",
              "      <td>175</td>\n",
              "      <td>0.6</td>\n",
              "      <td>0</td>\n",
              "      <td>0</td>\n",
              "      <td>0</td>\n",
              "      <td>1</td>\n",
              "      <td>0</td>\n",
              "      <td>0</td>\n",
              "      <td>0</td>\n",
              "      <td>0</td>\n",
              "      <td>0</td>\n",
              "      <td>1</td>\n",
              "    </tr>\n",
              "    <tr>\n",
              "      <th>608</th>\n",
              "      <td>62</td>\n",
              "      <td>158.0</td>\n",
              "      <td>170.0</td>\n",
              "      <td>0</td>\n",
              "      <td>138</td>\n",
              "      <td>0.0</td>\n",
              "      <td>1</td>\n",
              "      <td>1</td>\n",
              "      <td>1</td>\n",
              "      <td>0</td>\n",
              "      <td>0</td>\n",
              "      <td>0</td>\n",
              "      <td>1</td>\n",
              "      <td>1</td>\n",
              "      <td>0</td>\n",
              "      <td>1</td>\n",
              "    </tr>\n",
              "    <tr>\n",
              "      <th>37</th>\n",
              "      <td>41</td>\n",
              "      <td>110.0</td>\n",
              "      <td>250.0</td>\n",
              "      <td>0</td>\n",
              "      <td>142</td>\n",
              "      <td>0.0</td>\n",
              "      <td>0</td>\n",
              "      <td>0</td>\n",
              "      <td>0</td>\n",
              "      <td>0</td>\n",
              "      <td>0</td>\n",
              "      <td>0</td>\n",
              "      <td>1</td>\n",
              "      <td>0</td>\n",
              "      <td>0</td>\n",
              "      <td>0</td>\n",
              "    </tr>\n",
              "    <tr>\n",
              "      <th>783</th>\n",
              "      <td>45</td>\n",
              "      <td>138.0</td>\n",
              "      <td>236.0</td>\n",
              "      <td>0</td>\n",
              "      <td>152</td>\n",
              "      <td>0.2</td>\n",
              "      <td>0</td>\n",
              "      <td>0</td>\n",
              "      <td>1</td>\n",
              "      <td>0</td>\n",
              "      <td>0</td>\n",
              "      <td>1</td>\n",
              "      <td>0</td>\n",
              "      <td>1</td>\n",
              "      <td>0</td>\n",
              "      <td>1</td>\n",
              "    </tr>\n",
              "    <tr>\n",
              "      <th>814</th>\n",
              "      <td>77</td>\n",
              "      <td>125.0</td>\n",
              "      <td>304.0</td>\n",
              "      <td>0</td>\n",
              "      <td>162</td>\n",
              "      <td>0.0</td>\n",
              "      <td>1</td>\n",
              "      <td>1</td>\n",
              "      <td>1</td>\n",
              "      <td>0</td>\n",
              "      <td>0</td>\n",
              "      <td>1</td>\n",
              "      <td>0</td>\n",
              "      <td>1</td>\n",
              "      <td>0</td>\n",
              "      <td>0</td>\n",
              "    </tr>\n",
              "  </tbody>\n",
              "</table>\n",
              "</div>"
            ],
            "text/plain": [
              "     Age  RestingBP  ...  ST_Slope_Down  ST_Slope_Flat\n",
              "715   44      108.0  ...              0              1\n",
              "608   62      158.0  ...              0              1\n",
              "37    41      110.0  ...              0              0\n",
              "783   45      138.0  ...              0              1\n",
              "814   77      125.0  ...              0              0\n",
              "\n",
              "[5 rows x 16 columns]"
            ]
          },
          "metadata": {},
          "execution_count": 5
        }
      ]
    },
    {
      "cell_type": "code",
      "metadata": {
        "id": "PxfgCsYyfHwA"
      },
      "source": [
        "\n"
      ],
      "execution_count": 5,
      "outputs": []
    },
    {
      "cell_type": "code",
      "metadata": {
        "colab": {
          "base_uri": "https://localhost:8080/",
          "height": 226
        },
        "id": "KnxyU9TUfIYx",
        "outputId": "c6744360-ccb0-4fa2-a24a-098071e8e32e"
      },
      "source": [
        "dataset = dummies\n",
        "\n",
        "# Using dataset2 as a variable to avoid any changes in original dataset\n",
        "dataset2 = dataset\n",
        "min_max_scaler = sklearn.preprocessing.MinMaxScaler()\n",
        "dataset2[['Age',\t'RestingBP',\t'Cholesterol', 'MaxHR',\t'Oldpeak']] = min_max_scaler.fit_transform(dataset2[['Age',\t'RestingBP',\t'Cholesterol', 'MaxHR',\t'Oldpeak']])\n",
        "\n",
        "dataset2.head()"
      ],
      "execution_count": 6,
      "outputs": [
        {
          "output_type": "execute_result",
          "data": {
            "text/html": [
              "<div>\n",
              "<style scoped>\n",
              "    .dataframe tbody tr th:only-of-type {\n",
              "        vertical-align: middle;\n",
              "    }\n",
              "\n",
              "    .dataframe tbody tr th {\n",
              "        vertical-align: top;\n",
              "    }\n",
              "\n",
              "    .dataframe thead th {\n",
              "        text-align: right;\n",
              "    }\n",
              "</style>\n",
              "<table border=\"1\" class=\"dataframe\">\n",
              "  <thead>\n",
              "    <tr style=\"text-align: right;\">\n",
              "      <th></th>\n",
              "      <th>Age</th>\n",
              "      <th>RestingBP</th>\n",
              "      <th>Cholesterol</th>\n",
              "      <th>FastingBS</th>\n",
              "      <th>MaxHR</th>\n",
              "      <th>Oldpeak</th>\n",
              "      <th>HeartDisease</th>\n",
              "      <th>Sex_M</th>\n",
              "      <th>ChestPainType_ASY</th>\n",
              "      <th>ChestPainType_NAP</th>\n",
              "      <th>ChestPainType_TA</th>\n",
              "      <th>RestingECG_LVH</th>\n",
              "      <th>RestingECG_ST</th>\n",
              "      <th>ExerciseAngina_Y</th>\n",
              "      <th>ST_Slope_Down</th>\n",
              "      <th>ST_Slope_Flat</th>\n",
              "    </tr>\n",
              "  </thead>\n",
              "  <tbody>\n",
              "    <tr>\n",
              "      <th>715</th>\n",
              "      <td>0.326531</td>\n",
              "      <td>0.233333</td>\n",
              "      <td>0.108108</td>\n",
              "      <td>0</td>\n",
              "      <td>0.809859</td>\n",
              "      <td>0.363636</td>\n",
              "      <td>0</td>\n",
              "      <td>0</td>\n",
              "      <td>0</td>\n",
              "      <td>1</td>\n",
              "      <td>0</td>\n",
              "      <td>0</td>\n",
              "      <td>0</td>\n",
              "      <td>0</td>\n",
              "      <td>0</td>\n",
              "      <td>1</td>\n",
              "    </tr>\n",
              "    <tr>\n",
              "      <th>608</th>\n",
              "      <td>0.693878</td>\n",
              "      <td>0.650000</td>\n",
              "      <td>0.164093</td>\n",
              "      <td>0</td>\n",
              "      <td>0.549296</td>\n",
              "      <td>0.295455</td>\n",
              "      <td>1</td>\n",
              "      <td>1</td>\n",
              "      <td>1</td>\n",
              "      <td>0</td>\n",
              "      <td>0</td>\n",
              "      <td>0</td>\n",
              "      <td>1</td>\n",
              "      <td>1</td>\n",
              "      <td>0</td>\n",
              "      <td>1</td>\n",
              "    </tr>\n",
              "    <tr>\n",
              "      <th>37</th>\n",
              "      <td>0.265306</td>\n",
              "      <td>0.250000</td>\n",
              "      <td>0.318533</td>\n",
              "      <td>0</td>\n",
              "      <td>0.577465</td>\n",
              "      <td>0.295455</td>\n",
              "      <td>0</td>\n",
              "      <td>0</td>\n",
              "      <td>0</td>\n",
              "      <td>0</td>\n",
              "      <td>0</td>\n",
              "      <td>0</td>\n",
              "      <td>1</td>\n",
              "      <td>0</td>\n",
              "      <td>0</td>\n",
              "      <td>0</td>\n",
              "    </tr>\n",
              "    <tr>\n",
              "      <th>783</th>\n",
              "      <td>0.346939</td>\n",
              "      <td>0.483333</td>\n",
              "      <td>0.291506</td>\n",
              "      <td>0</td>\n",
              "      <td>0.647887</td>\n",
              "      <td>0.318182</td>\n",
              "      <td>0</td>\n",
              "      <td>0</td>\n",
              "      <td>1</td>\n",
              "      <td>0</td>\n",
              "      <td>0</td>\n",
              "      <td>1</td>\n",
              "      <td>0</td>\n",
              "      <td>1</td>\n",
              "      <td>0</td>\n",
              "      <td>1</td>\n",
              "    </tr>\n",
              "    <tr>\n",
              "      <th>814</th>\n",
              "      <td>1.000000</td>\n",
              "      <td>0.375000</td>\n",
              "      <td>0.422780</td>\n",
              "      <td>0</td>\n",
              "      <td>0.718310</td>\n",
              "      <td>0.295455</td>\n",
              "      <td>1</td>\n",
              "      <td>1</td>\n",
              "      <td>1</td>\n",
              "      <td>0</td>\n",
              "      <td>0</td>\n",
              "      <td>1</td>\n",
              "      <td>0</td>\n",
              "      <td>1</td>\n",
              "      <td>0</td>\n",
              "      <td>0</td>\n",
              "    </tr>\n",
              "  </tbody>\n",
              "</table>\n",
              "</div>"
            ],
            "text/plain": [
              "          Age  RestingBP  ...  ST_Slope_Down  ST_Slope_Flat\n",
              "715  0.326531   0.233333  ...              0              1\n",
              "608  0.693878   0.650000  ...              0              1\n",
              "37   0.265306   0.250000  ...              0              0\n",
              "783  0.346939   0.483333  ...              0              1\n",
              "814  1.000000   0.375000  ...              0              0\n",
              "\n",
              "[5 rows x 16 columns]"
            ]
          },
          "metadata": {},
          "execution_count": 6
        }
      ]
    },
    {
      "cell_type": "code",
      "metadata": {
        "colab": {
          "base_uri": "https://localhost:8080/",
          "height": 226
        },
        "id": "PDSmvW4OJWI-",
        "outputId": "0e6f5673-fdad-4992-d96b-134fdcee2ac4"
      },
      "source": [
        "training_dataset = dataset2[0:700]\n",
        "cv_dataset = dataset2[700:800]\n",
        "test_dataset = dataset2[800:]\n",
        "\n",
        "training_features = training_dataset.copy()\n",
        "training_labels  = pd.DataFrame(training_features.pop('HeartDisease'))\n",
        "\n",
        "cv_features = test_dataset.copy()\n",
        "cv_labels  = pd.DataFrame(cv_features.pop('HeartDisease'))\n",
        "\n",
        "test_features = test_dataset.copy()\n",
        "test_labels  = pd.DataFrame(test_features.pop('HeartDisease'))\n",
        "\n",
        "training_features.head()"
      ],
      "execution_count": 7,
      "outputs": [
        {
          "output_type": "execute_result",
          "data": {
            "text/html": [
              "<div>\n",
              "<style scoped>\n",
              "    .dataframe tbody tr th:only-of-type {\n",
              "        vertical-align: middle;\n",
              "    }\n",
              "\n",
              "    .dataframe tbody tr th {\n",
              "        vertical-align: top;\n",
              "    }\n",
              "\n",
              "    .dataframe thead th {\n",
              "        text-align: right;\n",
              "    }\n",
              "</style>\n",
              "<table border=\"1\" class=\"dataframe\">\n",
              "  <thead>\n",
              "    <tr style=\"text-align: right;\">\n",
              "      <th></th>\n",
              "      <th>Age</th>\n",
              "      <th>RestingBP</th>\n",
              "      <th>Cholesterol</th>\n",
              "      <th>FastingBS</th>\n",
              "      <th>MaxHR</th>\n",
              "      <th>Oldpeak</th>\n",
              "      <th>Sex_M</th>\n",
              "      <th>ChestPainType_ASY</th>\n",
              "      <th>ChestPainType_NAP</th>\n",
              "      <th>ChestPainType_TA</th>\n",
              "      <th>RestingECG_LVH</th>\n",
              "      <th>RestingECG_ST</th>\n",
              "      <th>ExerciseAngina_Y</th>\n",
              "      <th>ST_Slope_Down</th>\n",
              "      <th>ST_Slope_Flat</th>\n",
              "    </tr>\n",
              "  </thead>\n",
              "  <tbody>\n",
              "    <tr>\n",
              "      <th>715</th>\n",
              "      <td>0.326531</td>\n",
              "      <td>0.233333</td>\n",
              "      <td>0.108108</td>\n",
              "      <td>0</td>\n",
              "      <td>0.809859</td>\n",
              "      <td>0.363636</td>\n",
              "      <td>0</td>\n",
              "      <td>0</td>\n",
              "      <td>1</td>\n",
              "      <td>0</td>\n",
              "      <td>0</td>\n",
              "      <td>0</td>\n",
              "      <td>0</td>\n",
              "      <td>0</td>\n",
              "      <td>1</td>\n",
              "    </tr>\n",
              "    <tr>\n",
              "      <th>608</th>\n",
              "      <td>0.693878</td>\n",
              "      <td>0.650000</td>\n",
              "      <td>0.164093</td>\n",
              "      <td>0</td>\n",
              "      <td>0.549296</td>\n",
              "      <td>0.295455</td>\n",
              "      <td>1</td>\n",
              "      <td>1</td>\n",
              "      <td>0</td>\n",
              "      <td>0</td>\n",
              "      <td>0</td>\n",
              "      <td>1</td>\n",
              "      <td>1</td>\n",
              "      <td>0</td>\n",
              "      <td>1</td>\n",
              "    </tr>\n",
              "    <tr>\n",
              "      <th>37</th>\n",
              "      <td>0.265306</td>\n",
              "      <td>0.250000</td>\n",
              "      <td>0.318533</td>\n",
              "      <td>0</td>\n",
              "      <td>0.577465</td>\n",
              "      <td>0.295455</td>\n",
              "      <td>0</td>\n",
              "      <td>0</td>\n",
              "      <td>0</td>\n",
              "      <td>0</td>\n",
              "      <td>0</td>\n",
              "      <td>1</td>\n",
              "      <td>0</td>\n",
              "      <td>0</td>\n",
              "      <td>0</td>\n",
              "    </tr>\n",
              "    <tr>\n",
              "      <th>783</th>\n",
              "      <td>0.346939</td>\n",
              "      <td>0.483333</td>\n",
              "      <td>0.291506</td>\n",
              "      <td>0</td>\n",
              "      <td>0.647887</td>\n",
              "      <td>0.318182</td>\n",
              "      <td>0</td>\n",
              "      <td>1</td>\n",
              "      <td>0</td>\n",
              "      <td>0</td>\n",
              "      <td>1</td>\n",
              "      <td>0</td>\n",
              "      <td>1</td>\n",
              "      <td>0</td>\n",
              "      <td>1</td>\n",
              "    </tr>\n",
              "    <tr>\n",
              "      <th>814</th>\n",
              "      <td>1.000000</td>\n",
              "      <td>0.375000</td>\n",
              "      <td>0.422780</td>\n",
              "      <td>0</td>\n",
              "      <td>0.718310</td>\n",
              "      <td>0.295455</td>\n",
              "      <td>1</td>\n",
              "      <td>1</td>\n",
              "      <td>0</td>\n",
              "      <td>0</td>\n",
              "      <td>1</td>\n",
              "      <td>0</td>\n",
              "      <td>1</td>\n",
              "      <td>0</td>\n",
              "      <td>0</td>\n",
              "    </tr>\n",
              "  </tbody>\n",
              "</table>\n",
              "</div>"
            ],
            "text/plain": [
              "          Age  RestingBP  ...  ST_Slope_Down  ST_Slope_Flat\n",
              "715  0.326531   0.233333  ...              0              1\n",
              "608  0.693878   0.650000  ...              0              1\n",
              "37   0.265306   0.250000  ...              0              0\n",
              "783  0.346939   0.483333  ...              0              1\n",
              "814  1.000000   0.375000  ...              0              0\n",
              "\n",
              "[5 rows x 15 columns]"
            ]
          },
          "metadata": {},
          "execution_count": 7
        }
      ]
    },
    {
      "cell_type": "markdown",
      "metadata": {
        "id": "LCA2yldqD3x8"
      },
      "source": [
        "**Creating a Model and testing it on Cross Validation Data**\n"
      ]
    },
    {
      "cell_type": "code",
      "metadata": {
        "colab": {
          "base_uri": "https://localhost:8080/"
        },
        "id": "Pv0-1YelWOiL",
        "outputId": "77da10a4-3303-4ab3-acea-f63fb63d8ee6"
      },
      "source": [
        "model = tf.keras.models.Sequential()\n",
        "model.add(tf.keras.layers.Dense(1,input_dim = 15,activation='sigmoid'))\n",
        "\n",
        "model.compile(optimizer='rmsprop',\n",
        "              loss='binary_crossentropy',\n",
        "              metrics=['accuracy'])\n",
        "print(model.summary())\n",
        "model.fit(training_features,training_labels,epochs = 100)\n",
        "model.evaluate(cv_features,cv_labels)"
      ],
      "execution_count": 8,
      "outputs": [
        {
          "output_type": "stream",
          "name": "stdout",
          "text": [
            "Model: \"sequential\"\n",
            "_________________________________________________________________\n",
            " Layer (type)                Output Shape              Param #   \n",
            "=================================================================\n",
            " dense (Dense)               (None, 1)                 16        \n",
            "                                                                 \n",
            "=================================================================\n",
            "Total params: 16\n",
            "Trainable params: 16\n",
            "Non-trainable params: 0\n",
            "_________________________________________________________________\n",
            "None\n",
            "Epoch 1/100\n",
            "22/22 [==============================] - 1s 2ms/step - loss: 0.8134 - accuracy: 0.4471\n",
            "Epoch 2/100\n",
            "22/22 [==============================] - 0s 2ms/step - loss: 0.7997 - accuracy: 0.4643\n",
            "Epoch 3/100\n",
            "22/22 [==============================] - 0s 1ms/step - loss: 0.7876 - accuracy: 0.4771\n",
            "Epoch 4/100\n",
            "22/22 [==============================] - 0s 2ms/step - loss: 0.7759 - accuracy: 0.4800\n",
            "Epoch 5/100\n",
            "22/22 [==============================] - 0s 2ms/step - loss: 0.7645 - accuracy: 0.4900\n",
            "Epoch 6/100\n",
            "22/22 [==============================] - 0s 2ms/step - loss: 0.7530 - accuracy: 0.4957\n",
            "Epoch 7/100\n",
            "22/22 [==============================] - 0s 2ms/step - loss: 0.7419 - accuracy: 0.4986\n",
            "Epoch 8/100\n",
            "22/22 [==============================] - 0s 1ms/step - loss: 0.7313 - accuracy: 0.5100\n",
            "Epoch 9/100\n",
            "22/22 [==============================] - 0s 2ms/step - loss: 0.7209 - accuracy: 0.5214\n",
            "Epoch 10/100\n",
            "22/22 [==============================] - 0s 2ms/step - loss: 0.7106 - accuracy: 0.5357\n",
            "Epoch 11/100\n",
            "22/22 [==============================] - 0s 1ms/step - loss: 0.7006 - accuracy: 0.5571\n",
            "Epoch 12/100\n",
            "22/22 [==============================] - 0s 1ms/step - loss: 0.6909 - accuracy: 0.5657\n",
            "Epoch 13/100\n",
            "22/22 [==============================] - 0s 1ms/step - loss: 0.6813 - accuracy: 0.5743\n",
            "Epoch 14/100\n",
            "22/22 [==============================] - 0s 1ms/step - loss: 0.6713 - accuracy: 0.5843\n",
            "Epoch 15/100\n",
            "22/22 [==============================] - 0s 2ms/step - loss: 0.6618 - accuracy: 0.5957\n",
            "Epoch 16/100\n",
            "22/22 [==============================] - 0s 2ms/step - loss: 0.6526 - accuracy: 0.6029\n",
            "Epoch 17/100\n",
            "22/22 [==============================] - 0s 2ms/step - loss: 0.6437 - accuracy: 0.6100\n",
            "Epoch 18/100\n",
            "22/22 [==============================] - 0s 1ms/step - loss: 0.6351 - accuracy: 0.6229\n",
            "Epoch 19/100\n",
            "22/22 [==============================] - 0s 1ms/step - loss: 0.6266 - accuracy: 0.6329\n",
            "Epoch 20/100\n",
            "22/22 [==============================] - 0s 1ms/step - loss: 0.6183 - accuracy: 0.6457\n",
            "Epoch 21/100\n",
            "22/22 [==============================] - 0s 1ms/step - loss: 0.6104 - accuracy: 0.6600\n",
            "Epoch 22/100\n",
            "22/22 [==============================] - 0s 1ms/step - loss: 0.6027 - accuracy: 0.6686\n",
            "Epoch 23/100\n",
            "22/22 [==============================] - 0s 1ms/step - loss: 0.5953 - accuracy: 0.6900\n",
            "Epoch 24/100\n",
            "22/22 [==============================] - 0s 3ms/step - loss: 0.5883 - accuracy: 0.7071\n",
            "Epoch 25/100\n",
            "22/22 [==============================] - 0s 2ms/step - loss: 0.5812 - accuracy: 0.7200\n",
            "Epoch 26/100\n",
            "22/22 [==============================] - 0s 2ms/step - loss: 0.5745 - accuracy: 0.7343\n",
            "Epoch 27/100\n",
            "22/22 [==============================] - 0s 2ms/step - loss: 0.5677 - accuracy: 0.7500\n",
            "Epoch 28/100\n",
            "22/22 [==============================] - 0s 2ms/step - loss: 0.5614 - accuracy: 0.7614\n",
            "Epoch 29/100\n",
            "22/22 [==============================] - 0s 2ms/step - loss: 0.5555 - accuracy: 0.7729\n",
            "Epoch 30/100\n",
            "22/22 [==============================] - 0s 2ms/step - loss: 0.5497 - accuracy: 0.7786\n",
            "Epoch 31/100\n",
            "22/22 [==============================] - 0s 2ms/step - loss: 0.5438 - accuracy: 0.7814\n",
            "Epoch 32/100\n",
            "22/22 [==============================] - 0s 2ms/step - loss: 0.5379 - accuracy: 0.7871\n",
            "Epoch 33/100\n",
            "22/22 [==============================] - 0s 2ms/step - loss: 0.5321 - accuracy: 0.7886\n",
            "Epoch 34/100\n",
            "22/22 [==============================] - 0s 1ms/step - loss: 0.5268 - accuracy: 0.7929\n",
            "Epoch 35/100\n",
            "22/22 [==============================] - 0s 2ms/step - loss: 0.5219 - accuracy: 0.7914\n",
            "Epoch 36/100\n",
            "22/22 [==============================] - 0s 2ms/step - loss: 0.5171 - accuracy: 0.7986\n",
            "Epoch 37/100\n",
            "22/22 [==============================] - 0s 2ms/step - loss: 0.5125 - accuracy: 0.8014\n",
            "Epoch 38/100\n",
            "22/22 [==============================] - 0s 1ms/step - loss: 0.5076 - accuracy: 0.8014\n",
            "Epoch 39/100\n",
            "22/22 [==============================] - 0s 2ms/step - loss: 0.5031 - accuracy: 0.8029\n",
            "Epoch 40/100\n",
            "22/22 [==============================] - 0s 2ms/step - loss: 0.4988 - accuracy: 0.8043\n",
            "Epoch 41/100\n",
            "22/22 [==============================] - 0s 1ms/step - loss: 0.4946 - accuracy: 0.8043\n",
            "Epoch 42/100\n",
            "22/22 [==============================] - 0s 2ms/step - loss: 0.4904 - accuracy: 0.8029\n",
            "Epoch 43/100\n",
            "22/22 [==============================] - 0s 2ms/step - loss: 0.4862 - accuracy: 0.8071\n",
            "Epoch 44/100\n",
            "22/22 [==============================] - 0s 1ms/step - loss: 0.4823 - accuracy: 0.8086\n",
            "Epoch 45/100\n",
            "22/22 [==============================] - 0s 1ms/step - loss: 0.4786 - accuracy: 0.8086\n",
            "Epoch 46/100\n",
            "22/22 [==============================] - 0s 2ms/step - loss: 0.4750 - accuracy: 0.8100\n",
            "Epoch 47/100\n",
            "22/22 [==============================] - 0s 1ms/step - loss: 0.4714 - accuracy: 0.8100\n",
            "Epoch 48/100\n",
            "22/22 [==============================] - 0s 1ms/step - loss: 0.4678 - accuracy: 0.8114\n",
            "Epoch 49/100\n",
            "22/22 [==============================] - 0s 1ms/step - loss: 0.4645 - accuracy: 0.8100\n",
            "Epoch 50/100\n",
            "22/22 [==============================] - 0s 1ms/step - loss: 0.4613 - accuracy: 0.8143\n",
            "Epoch 51/100\n",
            "22/22 [==============================] - 0s 1ms/step - loss: 0.4580 - accuracy: 0.8129\n",
            "Epoch 52/100\n",
            "22/22 [==============================] - 0s 2ms/step - loss: 0.4549 - accuracy: 0.8157\n",
            "Epoch 53/100\n",
            "22/22 [==============================] - 0s 2ms/step - loss: 0.4520 - accuracy: 0.8171\n",
            "Epoch 54/100\n",
            "22/22 [==============================] - 0s 1ms/step - loss: 0.4492 - accuracy: 0.8171\n",
            "Epoch 55/100\n",
            "22/22 [==============================] - 0s 1ms/step - loss: 0.4465 - accuracy: 0.8171\n",
            "Epoch 56/100\n",
            "22/22 [==============================] - 0s 1ms/step - loss: 0.4438 - accuracy: 0.8143\n",
            "Epoch 57/100\n",
            "22/22 [==============================] - 0s 1ms/step - loss: 0.4412 - accuracy: 0.8143\n",
            "Epoch 58/100\n",
            "22/22 [==============================] - 0s 2ms/step - loss: 0.4387 - accuracy: 0.8157\n",
            "Epoch 59/100\n",
            "22/22 [==============================] - 0s 2ms/step - loss: 0.4362 - accuracy: 0.8186\n",
            "Epoch 60/100\n",
            "22/22 [==============================] - 0s 2ms/step - loss: 0.4338 - accuracy: 0.8200\n",
            "Epoch 61/100\n",
            "22/22 [==============================] - 0s 2ms/step - loss: 0.4315 - accuracy: 0.8214\n",
            "Epoch 62/100\n",
            "22/22 [==============================] - 0s 1ms/step - loss: 0.4292 - accuracy: 0.8200\n",
            "Epoch 63/100\n",
            "22/22 [==============================] - 0s 1ms/step - loss: 0.4270 - accuracy: 0.8214\n",
            "Epoch 64/100\n",
            "22/22 [==============================] - 0s 2ms/step - loss: 0.4250 - accuracy: 0.8200\n",
            "Epoch 65/100\n",
            "22/22 [==============================] - 0s 2ms/step - loss: 0.4229 - accuracy: 0.8171\n",
            "Epoch 66/100\n",
            "22/22 [==============================] - 0s 2ms/step - loss: 0.4210 - accuracy: 0.8200\n",
            "Epoch 67/100\n",
            "22/22 [==============================] - 0s 1ms/step - loss: 0.4190 - accuracy: 0.8229\n",
            "Epoch 68/100\n",
            "22/22 [==============================] - 0s 2ms/step - loss: 0.4173 - accuracy: 0.8243\n",
            "Epoch 69/100\n",
            "22/22 [==============================] - 0s 1ms/step - loss: 0.4154 - accuracy: 0.8257\n",
            "Epoch 70/100\n",
            "22/22 [==============================] - 0s 2ms/step - loss: 0.4137 - accuracy: 0.8257\n",
            "Epoch 71/100\n",
            "22/22 [==============================] - 0s 1ms/step - loss: 0.4119 - accuracy: 0.8257\n",
            "Epoch 72/100\n",
            "22/22 [==============================] - 0s 2ms/step - loss: 0.4101 - accuracy: 0.8300\n",
            "Epoch 73/100\n",
            "22/22 [==============================] - 0s 1ms/step - loss: 0.4085 - accuracy: 0.8314\n",
            "Epoch 74/100\n",
            "22/22 [==============================] - 0s 2ms/step - loss: 0.4070 - accuracy: 0.8314\n",
            "Epoch 75/100\n",
            "22/22 [==============================] - 0s 2ms/step - loss: 0.4054 - accuracy: 0.8329\n",
            "Epoch 76/100\n",
            "22/22 [==============================] - 0s 2ms/step - loss: 0.4040 - accuracy: 0.8314\n",
            "Epoch 77/100\n",
            "22/22 [==============================] - 0s 1ms/step - loss: 0.4026 - accuracy: 0.8343\n",
            "Epoch 78/100\n",
            "22/22 [==============================] - 0s 2ms/step - loss: 0.4011 - accuracy: 0.8329\n",
            "Epoch 79/100\n",
            "22/22 [==============================] - 0s 1ms/step - loss: 0.3998 - accuracy: 0.8357\n",
            "Epoch 80/100\n",
            "22/22 [==============================] - 0s 1ms/step - loss: 0.3984 - accuracy: 0.8357\n",
            "Epoch 81/100\n",
            "22/22 [==============================] - 0s 1ms/step - loss: 0.3972 - accuracy: 0.8357\n",
            "Epoch 82/100\n",
            "22/22 [==============================] - 0s 2ms/step - loss: 0.3961 - accuracy: 0.8357\n",
            "Epoch 83/100\n",
            "22/22 [==============================] - 0s 1ms/step - loss: 0.3948 - accuracy: 0.8371\n",
            "Epoch 84/100\n",
            "22/22 [==============================] - 0s 1ms/step - loss: 0.3938 - accuracy: 0.8357\n",
            "Epoch 85/100\n",
            "22/22 [==============================] - 0s 2ms/step - loss: 0.3926 - accuracy: 0.8357\n",
            "Epoch 86/100\n",
            "22/22 [==============================] - 0s 2ms/step - loss: 0.3915 - accuracy: 0.8343\n",
            "Epoch 87/100\n",
            "22/22 [==============================] - 0s 2ms/step - loss: 0.3902 - accuracy: 0.8386\n",
            "Epoch 88/100\n",
            "22/22 [==============================] - 0s 2ms/step - loss: 0.3891 - accuracy: 0.8386\n",
            "Epoch 89/100\n",
            "22/22 [==============================] - 0s 2ms/step - loss: 0.3880 - accuracy: 0.8400\n",
            "Epoch 90/100\n",
            "22/22 [==============================] - 0s 2ms/step - loss: 0.3870 - accuracy: 0.8400\n",
            "Epoch 91/100\n",
            "22/22 [==============================] - 0s 1ms/step - loss: 0.3859 - accuracy: 0.8443\n",
            "Epoch 92/100\n",
            "22/22 [==============================] - 0s 2ms/step - loss: 0.3849 - accuracy: 0.8429\n",
            "Epoch 93/100\n",
            "22/22 [==============================] - 0s 1ms/step - loss: 0.3841 - accuracy: 0.8429\n",
            "Epoch 94/100\n",
            "22/22 [==============================] - 0s 1ms/step - loss: 0.3832 - accuracy: 0.8429\n",
            "Epoch 95/100\n",
            "22/22 [==============================] - 0s 2ms/step - loss: 0.3823 - accuracy: 0.8414\n",
            "Epoch 96/100\n",
            "22/22 [==============================] - 0s 1ms/step - loss: 0.3816 - accuracy: 0.8457\n",
            "Epoch 97/100\n",
            "22/22 [==============================] - 0s 2ms/step - loss: 0.3808 - accuracy: 0.8414\n",
            "Epoch 98/100\n",
            "22/22 [==============================] - 0s 1ms/step - loss: 0.3800 - accuracy: 0.8443\n",
            "Epoch 99/100\n",
            "22/22 [==============================] - 0s 2ms/step - loss: 0.3791 - accuracy: 0.8443\n",
            "Epoch 100/100\n",
            "22/22 [==============================] - 0s 1ms/step - loss: 0.3784 - accuracy: 0.8429\n",
            "4/4 [==============================] - 0s 4ms/step - loss: 0.3782 - accuracy: 0.8559\n"
          ]
        },
        {
          "output_type": "execute_result",
          "data": {
            "text/plain": [
              "[0.3782222270965576, 0.8559321761131287]"
            ]
          },
          "metadata": {},
          "execution_count": 8
        }
      ]
    },
    {
      "cell_type": "markdown",
      "metadata": {
        "id": "2jLRZQ3GEXyL"
      },
      "source": [
        "**Checking the Accuracy on Test Data**"
      ]
    },
    {
      "cell_type": "code",
      "metadata": {
        "colab": {
          "base_uri": "https://localhost:8080/"
        },
        "id": "s68VxAjsCEWK",
        "outputId": "415ceb33-4587-43fa-9220-9dded59787f1"
      },
      "source": [
        "model.evaluate(test_features,test_labels)"
      ],
      "execution_count": 9,
      "outputs": [
        {
          "output_type": "stream",
          "name": "stdout",
          "text": [
            "4/4 [==============================] - 0s 3ms/step - loss: 0.3782 - accuracy: 0.8559\n"
          ]
        },
        {
          "output_type": "execute_result",
          "data": {
            "text/plain": [
              "[0.3782222270965576, 0.8559321761131287]"
            ]
          },
          "metadata": {},
          "execution_count": 9
        }
      ]
    }
  ]
}